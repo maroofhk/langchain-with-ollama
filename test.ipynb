{
 "cells": [
  {
   "cell_type": "markdown",
   "metadata": {},
   "source": [
    "# Aim\n",
    "- I am trying to learn how to use Langchain. As a first pass since I am familier with Ollama the best way is to fuse them and trying my hand at it. Here is the [link](https://youtu.be/CPgp8MhmGVY?si=IXo9gA5LtSRpAo5F)\n",
    "\n",
    "# Notes\n",
    "- This is the error I got when trying to use suggested Ollama import from langchain. It was suggested I use langchain community but then I go a deprecation warning hence I am updating the code. Here is the warning message: \n",
    "    - \"\"\"/var/folders/hp/x1wpjgvd0719s_c1mpwkqhn80000gn/T/ipykernel_27028/2165383713.py:1: LangChainDeprecationWarning: The class `Ollama` was deprecated in LangChain 0.3.1 and will be removed in 1.0.0. An updated version of the class exists in the :class:`~langchain-ollama package and should be used instead. To use it run `pip install -U :class:`~langchain-ollama` and import as `from :class:`~langchain_ollama import OllamaLLM``. ollama = Ollama(base_url='http://localhost:11434', model='llama3.1')\"\"\"\n",
    "- chunking done in fixed size and made into vectors\n",
    "- stored in chorma db"
   ]
  },
  {
   "cell_type": "code",
   "execution_count": 1,
   "metadata": {},
   "outputs": [
    {
     "name": "stderr",
     "output_type": "stream",
     "text": [
      "USER_AGENT environment variable not set, consider setting it to identify your requests.\n"
     ]
    }
   ],
   "source": [
    "\n",
    "# from langchain.llms import Ollama\n",
    "from langchain_ollama import OllamaLLM\n",
    "from langchain.document_loaders import WebBaseLoader\n",
    "from langchain.text_splitter import RecursiveCharacterTextSplitter\n",
    "\n",
    "from langchain.embeddings import GPT4AllEmbeddings\n",
    "from langchain.vectorstores import Chroma\n",
    "from langchain.chains import RetrievalQA\n",
    "\n",
    "from IPython.display import display, HTML"
   ]
  },
  {
   "cell_type": "code",
   "execution_count": 2,
   "metadata": {},
   "outputs": [],
   "source": [
    "def printw(txt):\n",
    "    return display(HTML(txt))\n",
    "\n",
    "# load html file \n",
    "html = \"https://en.wikipedia.org/wiki/2023_Hawaii_wildfires\"\n",
    "loader = WebBaseLoader(html)\n",
    "data = loader.load()\n",
    "\n",
    "# here we split it\n",
    "# here we are splitting the text into 500 characters with no overlap between chunks\n",
    "text_splitter = RecursiveCharacterTextSplitter(chunk_size=500, chunk_overlap=0)\n",
    "all_splits = text_splitter.split_documents(data)"
   ]
  },
  {
   "cell_type": "code",
   "execution_count": 3,
   "metadata": {},
   "outputs": [],
   "source": [
    "vectorstore = Chroma.from_documents(documents=all_splits, embedding=GPT4AllEmbeddings())\n",
    "ollama =  OllamaLLM(base_url='http://localhost:11434', model='llama3.1')\n",
    "\n",
    "# chain the above \n",
    "qachain = RetrievalQA.from_chain_type(ollama, retriever=vectorstore.as_retriever())"
   ]
  },
  {
   "cell_type": "code",
   "execution_count": 5,
   "metadata": {},
   "outputs": [
    {
     "name": "stderr",
     "output_type": "stream",
     "text": [
      "/var/folders/hp/x1wpjgvd0719s_c1mpwkqhn80000gn/T/ipykernel_30574/1008085620.py:2: LangChainDeprecationWarning: The method `Chain.__call__` was deprecated in langchain 0.1.0 and will be removed in 1.0. Use :meth:`~invoke` instead.\n",
      "  qachain({'query': question})\n"
     ]
    },
    {
     "data": {
      "text/plain": [
       "{'query': \"When was Hawaii's request for a major disaster declaration approved?\",\n",
       " 'result': 'August 10, according to the text, which states that \"President Biden approved the state of Hawaii\\'s request for a major disaster declaration on August 10...\"'}"
      ]
     },
     "execution_count": 5,
     "metadata": {},
     "output_type": "execute_result"
    }
   ],
   "source": [
    "question = \"When was Hawaii's request for a major disaster declaration approved?\"\n",
    "qachain({'query': question})"
   ]
  },
  {
   "cell_type": "code",
   "execution_count": 6,
   "metadata": {},
   "outputs": [
    {
     "name": "stdout",
     "output_type": "stream",
     "text": [
      "NAME               ID              SIZE      MODIFIED   \n",
      "llama3.1:latest    46e0c10c039e    4.9 GB    2 days ago    \n"
     ]
    }
   ],
   "source": [
    "!ollama list"
   ]
  },
  {
   "cell_type": "code",
   "execution_count": null,
   "metadata": {},
   "outputs": [],
   "source": []
  }
 ],
 "metadata": {
  "kernelspec": {
   "display_name": "ollama",
   "language": "python",
   "name": "python3"
  },
  "language_info": {
   "codemirror_mode": {
    "name": "ipython",
    "version": 3
   },
   "file_extension": ".py",
   "mimetype": "text/x-python",
   "name": "python",
   "nbconvert_exporter": "python",
   "pygments_lexer": "ipython3",
   "version": "3.12.2"
  }
 },
 "nbformat": 4,
 "nbformat_minor": 2
}
